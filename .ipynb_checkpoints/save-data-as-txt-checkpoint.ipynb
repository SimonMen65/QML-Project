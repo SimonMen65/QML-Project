{
 "cells": [
  {
   "cell_type": "code",
   "execution_count": 6,
   "id": "4b752563-8c3c-4eda-ad1b-041f030a88fc",
   "metadata": {},
   "outputs": [],
   "source": [
    "# Import packages\n",
    "%matplotlib inline\n",
    "import pandas as pd\n",
    "import numpy as np\n",
    "import matplotlib.pyplot as plt\n",
    "from sklearn.model_selection import train_test_split"
   ]
  },
  {
   "cell_type": "code",
   "execution_count": 3,
   "id": "8a08666a-8469-46fd-ac7c-098a1e8193da",
   "metadata": {},
   "outputs": [
    {
     "data": {
      "text/plain": [
       "(7803, 39)"
      ]
     },
     "execution_count": 3,
     "metadata": {},
     "output_type": "execute_result"
    }
   ],
   "source": [
    "df = pd.read_csv('exoplanets_2018.csv')\n",
    "\n",
    "df = df.rename(columns={'kepid':'KepID',\n",
    "'kepoi_name':'KOIName',\n",
    "'kepler_name':'KeplerName',\n",
    "'koi_disposition':'ExoplanetArchiveDisposition',\n",
    "'koi_pdisposition':'DispositionUsingKeplerData',\n",
    "'koi_score':'DispositionScore',\n",
    "'koi_fpflag_nt':'NotTransit-LikeFalsePositiveFlag',\n",
    "'koi_fpflag_ss':'koi_fpflag_ss',\n",
    "'koi_fpflag_co':'CentroidOffsetFalsePositiveFlag',\n",
    "'koi_fpflag_ec':'EphemerisMatchIndicatesContaminationFalsePositiveFlag',\n",
    "'koi_period':'OrbitalPeriod[days',\n",
    "'koi_period_err1':'OrbitalPeriodUpperUnc.[days',\n",
    "'koi_period_err2':'OrbitalPeriodLowerUnc.[days',\n",
    "'koi_time0bk':'TransitEpoch[BKJD',\n",
    "'koi_time0bk_err1':'TransitEpochUpperUnc.[BKJD',\n",
    "'koi_time0bk_err2':'TransitEpochLowerUnc.[BKJD',\n",
    "'koi_impact':'ImpactParamete',\n",
    "'koi_impact_err1':'ImpactParameterUpperUnc',\n",
    "'koi_impact_err2':'ImpactParameterLowerUnc',\n",
    "'koi_duration':'TransitDuration[hrs',\n",
    "'koi_duration_err1':'TransitDurationUpperUnc.[hrs',\n",
    "'koi_duration_err2':'TransitDurationLowerUnc.[hrs',\n",
    "'koi_depth':'TransitDepth[ppm',\n",
    "'koi_depth_err1':'TransitDepthUpperUnc.[ppm',\n",
    "'koi_depth_err2':'TransitDepthLowerUnc.[ppm',\n",
    "'koi_prad':'PlanetaryRadius[Earthradii',\n",
    "'koi_prad_err1':'PlanetaryRadiusUpperUnc.[Earthradii',\n",
    "'koi_prad_err2':'PlanetaryRadiusLowerUnc.[Earthradii',\n",
    "'koi_teq':'EquilibriumTemperature[K',\n",
    "'koi_teq_err1':'EquilibriumTemperatureUpperUnc.[K',\n",
    "'koi_teq_err2':'EquilibriumTemperatureLowerUnc.[K',\n",
    "'koi_insol':'InsolationFlux[Earthflux',\n",
    "'koi_insol_err1':'InsolationFluxUpperUnc.[Earthflux',\n",
    "'koi_insol_err2':'InsolationFluxLowerUnc.[Earthflux',\n",
    "'koi_model_snr':'TransitSignal-to-Nois',\n",
    "'koi_tce_plnt_num':'TCEPlanetNumbe',\n",
    "'koi_tce_delivname':'TCEDeliver',\n",
    "'koi_steff':'StellarEffectiveTemperature[K',\n",
    "'koi_steff_err1':'StellarEffectiveTemperatureUpperUnc.[K',\n",
    "'koi_steff_err2':'StellarEffectiveTemperatureLowerUnc.[K',\n",
    "'koi_slogg':'StellarSurfaceGravity[log10(cm/s**2)',\n",
    "'koi_slogg_err1':'StellarSurfaceGravityUpperUnc.[log10(cm/s**2)',\n",
    "'koi_slogg_err2':'StellarSurfaceGravityLowerUnc.[log10(cm/s**2)',\n",
    "'koi_srad':'StellarRadius[Solarradii',\n",
    "'koi_srad_err1':'StellarRadiusUpperUnc.[Solarradii',\n",
    "'koi_srad_err2':'StellarRadiusLowerUnc.[Solarradii',\n",
    "'ra':'RA[decimaldegrees',\n",
    "'dec':'Dec[decimaldegrees',\n",
    "'koi_kepmag':'Kepler-band[mag]'\n",
    "})\n",
    "\n",
    "\n",
    "df['ExoplanetCandidate'] = df['DispositionUsingKeplerData'].apply(lambda x: 1 if x == 'CANDIDATE' else 0)\n",
    "df['ExoplanetConfirmed'] = df['ExoplanetArchiveDisposition'].apply(lambda x: 2 if x == 'CONFIRMED' else 1 if x == 'CANDIDATE' else 0 )\n",
    "df.drop(columns=['KeplerName','KOIName','EquilibriumTemperatureUpperUnc.[K',\n",
    "                 'KepID','ExoplanetArchiveDisposition','DispositionUsingKeplerData',\n",
    "                 'NotTransit-LikeFalsePositiveFlag','koi_fpflag_ss','CentroidOffsetFalsePositiveFlag',\n",
    "                 'EphemerisMatchIndicatesContaminationFalsePositiveFlag','TCEDeliver',\n",
    "                 'EquilibriumTemperatureLowerUnc.[K'], inplace=True)\n",
    "df.dropna(inplace=True)\n",
    "df.shape"
   ]
  },
  {
   "cell_type": "code",
   "execution_count": 4,
   "id": "900a6338-7deb-4fde-842f-826895bef2c7",
   "metadata": {},
   "outputs": [
    {
     "name": "stdout",
     "output_type": "stream",
     "text": [
      "Cadidate==0 has\n",
      "(3741, 37) (3741,)\n",
      "Cadidate==1 has\n",
      "(4062, 37) (4062,)\n"
     ]
    }
   ],
   "source": [
    "def clean_dataset(df):\n",
    "    assert isinstance(df, pd.DataFrame), \"df needs to be a pd.DataFrame\"\n",
    "    df.dropna(inplace=True)\n",
    "    indices_to_keep = ~df.isin([np.nan, np.inf, -np.inf]).any(axis=1)\n",
    "    return df[indices_to_keep].astype(np.float64)\n",
    "\n",
    "clean_dataset(df)\n",
    "train, test = train_test_split(df, test_size=0.2, random_state=42)\n",
    "\n",
    "train.to_csv('planet_1.txt', sep=',', index=False)\n",
    "test.to_csv('planet_2.txt', sep=',', index=False)\n"
   ]
  },
  {
   "cell_type": "code",
   "execution_count": null,
   "id": "86fe768c-7640-4854-902a-f1afc6e6dde2",
   "metadata": {},
   "outputs": [],
   "source": []
  }
 ],
 "metadata": {
  "kernelspec": {
   "display_name": "Python 3 (ipykernel)",
   "language": "python",
   "name": "python3"
  },
  "language_info": {
   "codemirror_mode": {
    "name": "ipython",
    "version": 3
   },
   "file_extension": ".py",
   "mimetype": "text/x-python",
   "name": "python",
   "nbconvert_exporter": "python",
   "pygments_lexer": "ipython3",
   "version": "3.9.6"
  }
 },
 "nbformat": 4,
 "nbformat_minor": 5
}
